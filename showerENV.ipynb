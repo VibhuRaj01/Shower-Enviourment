{
 "cells": [
  {
   "cell_type": "raw",
   "id": "006b702a-2496-452d-8cd1-d3ed22ce8c34",
   "metadata": {},
   "source": [
    "goal: build a reinforcement model to adjust temprature of shower at optimal range\n",
    "\n",
    "actions: turn down, turn up, leave\n",
    "shower length: 60 sec\n",
    "optimal temp: 37-39 degree\n"
   ]
  },
  {
   "cell_type": "code",
   "execution_count": 43,
   "id": "bef02ad4-630e-47d5-abc0-44bd194e905d",
   "metadata": {},
   "outputs": [],
   "source": [
    "from gym import Env\n",
    "import numpy as np\n",
    "import random"
   ]
  },
  {
   "cell_type": "code",
   "execution_count": 44,
   "id": "bc25eef8-e7b1-4859-9bd6-3b2050d0709e",
   "metadata": {},
   "outputs": [],
   "source": [
    "class shower(Env):\n",
    "    def __init__(self):\n",
    "        self.action_space = Discrete(3)\n",
    "        self.observation_space=Box(low=np.array([0]),high=np.array([100]))\n",
    "        self.state=39+random.randint(-3,3)\n",
    "        self.shower_length=60\n",
    "    def step(self,action):\n",
    "        self.state+=action-1\n",
    "        self.shower_length-=1\n",
    "        \n",
    "        if self.state>=37 and self.state<=39:\n",
    "            reward=1\n",
    "        else:\n",
    "            reward=-1\n",
    "        if self.shower_length<=0:\n",
    "            done=True\n",
    "        else:\n",
    "            done=False\n",
    "        #temprature noise\n",
    "        self.state+=random.randint(-1,1)\n",
    "        info={}\n",
    "        return self.state, reward, done, info\n",
    "    def render(self):\n",
    "        pass\n",
    "    def reset(self):\n",
    "        self.state=39+random.randint(-3,3)\n",
    "        self.shower_length=60\n",
    "        return self.state"
   ]
  },
  {
   "cell_type": "code",
   "execution_count": 45,
   "id": "03391dfa-5b7e-4918-9b36-8deaa53b2e70",
   "metadata": {},
   "outputs": [
    {
     "name": "stderr",
     "output_type": "stream",
     "text": [
      "D:\\ImageClassification\\imageclassification\\lib\\site-packages\\gym\\spaces\\box.py:127: UserWarning: \u001b[33mWARN: Box bound precision lowered by casting to float32\u001b[0m\n",
      "  logger.warn(f\"Box bound precision lowered by casting to {self.dtype}\")\n"
     ]
    }
   ],
   "source": [
    "env=shower()"
   ]
  },
  {
   "cell_type": "code",
   "execution_count": 46,
   "id": "8eba138a-0e4f-4ca0-92e5-8dff08b50a33",
   "metadata": {},
   "outputs": [
    {
     "data": {
      "text/plain": [
       "array([46.118923], dtype=float32)"
      ]
     },
     "execution_count": 46,
     "metadata": {},
     "output_type": "execute_result"
    }
   ],
   "source": [
    "env.observation_space.sample()"
   ]
  },
  {
   "cell_type": "code",
   "execution_count": 47,
   "id": "9de15138-1b98-4921-a86d-f3deb7522741",
   "metadata": {},
   "outputs": [
    {
     "name": "stdout",
     "output_type": "stream",
     "text": [
      "episode:1   Score:-12\n",
      "episode:2   Score:-60\n",
      "episode:3   Score:-18\n",
      "episode:4   Score:-60\n",
      "episode:5   Score:-24\n",
      "episode:6   Score:-60\n",
      "episode:7   Score:-28\n",
      "episode:8   Score:-60\n",
      "episode:9   Score:-46\n",
      "episode:10   Score:-56\n"
     ]
    }
   ],
   "source": [
    "ep=10\n",
    "for episode in range(1,ep+1):\n",
    "    state=env.reset()\n",
    "    done=False\n",
    "    score=0\n",
    "    \n",
    "    while not done:\n",
    "        env.render()\n",
    "        action=env.action_space.sample()\n",
    "        n_state,reward,done,info=env.step(action)\n",
    "        score+=reward\n",
    "    print('episode:{}   Score:{}'.format(episode,score))"
   ]
  },
  {
   "cell_type": "code",
   "execution_count": 48,
   "id": "946cf182-1d17-461b-b04e-9655bae8cad4",
   "metadata": {},
   "outputs": [],
   "source": [
    "from tensorflow.keras.models import Sequential\n",
    "from tensorflow.keras.layers import Dense, Flatten"
   ]
  },
  {
   "cell_type": "code",
   "execution_count": 49,
   "id": "b2ed42bc-dcf2-4af9-ac96-5c7d183a5791",
   "metadata": {},
   "outputs": [],
   "source": [
    "states=env.observation_space.shape\n",
    "actions=env.action_space.n"
   ]
  },
  {
   "cell_type": "code",
   "execution_count": 50,
   "id": "f6689f79-acc2-4559-8862-658b795e2bde",
   "metadata": {},
   "outputs": [],
   "source": [
    "def Model(states,actions):\n",
    "    model=Sequential()\n",
    "    model.add(Dense(24,activation='relu',input_shape=states))\n",
    "    model.add(Dense(24,activation='relu'))\n",
    "    model.add(Dense(actions,activation='linear'))\n",
    "    return model"
   ]
  },
  {
   "cell_type": "code",
   "execution_count": 51,
   "id": "b28885a1-c22c-440c-86d9-00638008fd74",
   "metadata": {},
   "outputs": [],
   "source": [
    "model=Model(states,actions)"
   ]
  },
  {
   "cell_type": "code",
   "execution_count": 52,
   "id": "66968083-79ec-4f47-8715-ea923e708c4b",
   "metadata": {},
   "outputs": [
    {
     "name": "stdout",
     "output_type": "stream",
     "text": [
      "Model: \"sequential_3\"\n",
      "_________________________________________________________________\n",
      " Layer (type)                Output Shape              Param #   \n",
      "=================================================================\n",
      " dense_7 (Dense)             (None, 24)                48        \n",
      "                                                                 \n",
      " dense_8 (Dense)             (None, 24)                600       \n",
      "                                                                 \n",
      " dense_9 (Dense)             (None, 3)                 75        \n",
      "                                                                 \n",
      "=================================================================\n",
      "Total params: 723\n",
      "Trainable params: 723\n",
      "Non-trainable params: 0\n",
      "_________________________________________________________________\n"
     ]
    }
   ],
   "source": [
    "model.summary()"
   ]
  },
  {
   "cell_type": "code",
   "execution_count": 53,
   "id": "b8195426-02ac-4791-baa5-08d20cf30f7e",
   "metadata": {},
   "outputs": [],
   "source": [
    "from rl.agents import DQNAgent\n",
    "from rl.policy import BoltzmannQPolicy\n",
    "from rl.memory import SequentialMemory\n",
    "from keras.optimizers import Adam"
   ]
  },
  {
   "cell_type": "code",
   "execution_count": 54,
   "id": "fc30d425-8a2a-489e-b958-dc9558afa319",
   "metadata": {},
   "outputs": [],
   "source": [
    "def Agent(model,actions):\n",
    "    policy=BoltzmannQPolicy()\n",
    "    memory=SequentialMemory(limit=50000,window_length=1)\n",
    "    dqn=DQNAgent(model=model,memory=memory,policy=policy,\n",
    "                 nb_actions=actions,nb_steps_warmup=10,target_model_update=1e-2)\n",
    "    return dqn"
   ]
  },
  {
   "cell_type": "code",
   "execution_count": 55,
   "id": "74d46745-5804-44da-96a4-fb1a9ba9d323",
   "metadata": {},
   "outputs": [
    {
     "name": "stdout",
     "output_type": "stream",
     "text": [
      "Training for 50000 steps ...\n",
      "Interval 1 (0 steps performed)\n"
     ]
    },
    {
     "name": "stderr",
     "output_type": "stream",
     "text": [
      "D:\\ImageClassification\\imageclassification\\lib\\site-packages\\keras\\engine\\training_v1.py:2067: UserWarning: `Model.state_updates` will be removed in a future version. This property should not be used in TensorFlow 2.0, as `updates` are applied automatically.\n",
      "  updates=self.state_updates,\n"
     ]
    },
    {
     "name": "stdout",
     "output_type": "stream",
     "text": [
      "    1/10000 [..............................] - ETA: 4:28:49 - reward: 1.0000"
     ]
    },
    {
     "name": "stderr",
     "output_type": "stream",
     "text": [
      "D:\\ImageClassification\\imageclassification\\lib\\site-packages\\rl\\memory.py:37: UserWarning: Not enough entries to sample without replacement. Consider increasing your warm-up phase to avoid oversampling!\n",
      "  warnings.warn('Not enough entries to sample without replacement. Consider increasing your warm-up phase to avoid oversampling!')\n"
     ]
    },
    {
     "name": "stdout",
     "output_type": "stream",
     "text": [
      "10000/10000 [==============================] - 128s 13ms/step - reward: -0.6200\n",
      "166 episodes - episode_reward: -37.133 [-60.000, 14.000] - loss: 0.898 - mae: 6.198 - mean_q: -8.153\n",
      "\n",
      "Interval 2 (10000 steps performed)\n",
      "10000/10000 [==============================] - 126s 13ms/step - reward: -0.5402\n",
      "167 episodes - episode_reward: -32.575 [-60.000, 18.000] - loss: 1.849 - mae: 10.081 - mean_q: -14.407\n",
      "\n",
      "Interval 3 (20000 steps performed)\n",
      "10000/10000 [==============================] - 121s 12ms/step - reward: -0.5418\n",
      "167 episodes - episode_reward: -32.431 [-60.000, 36.000] - loss: 2.882 - mae: 12.611 - mean_q: -18.189\n",
      "\n",
      "Interval 4 (30000 steps performed)\n",
      "10000/10000 [==============================] - 110s 11ms/step - reward: -0.5492\n",
      "166 episodes - episode_reward: -32.867 [-60.000, 20.000] - loss: 3.018 - mae: 12.974 - mean_q: -18.744\n",
      "\n",
      "Interval 5 (40000 steps performed)\n",
      "10000/10000 [==============================] - 118s 12ms/step - reward: -0.5560\n",
      "done, took 601.756 seconds\n"
     ]
    },
    {
     "data": {
      "text/plain": [
       "<keras.callbacks.History at 0x1d6ecfc1a00>"
      ]
     },
     "execution_count": 55,
     "metadata": {},
     "output_type": "execute_result"
    }
   ],
   "source": [
    "dqn=Agent(model,actions)\n",
    "dqn.compile(Adam(lr=1e-3),metrics=['mae'])\n",
    "dqn.fit(env,nb_steps=50000,visualize=False,verbose=1)"
   ]
  }
 ],
 "metadata": {
  "kernelspec": {
   "display_name": "imageclassification",
   "language": "python",
   "name": "imageclassification"
  },
  "language_info": {
   "codemirror_mode": {
    "name": "ipython",
    "version": 3
   },
   "file_extension": ".py",
   "mimetype": "text/x-python",
   "name": "python",
   "nbconvert_exporter": "python",
   "pygments_lexer": "ipython3",
   "version": "3.9.12"
  }
 },
 "nbformat": 4,
 "nbformat_minor": 5
}
